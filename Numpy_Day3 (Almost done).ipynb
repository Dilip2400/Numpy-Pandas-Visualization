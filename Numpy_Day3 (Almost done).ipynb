{
  "nbformat": 4,
  "nbformat_minor": 0,
  "metadata": {
    "colab": {
      "provenance": []
    },
    "kernelspec": {
      "name": "python3",
      "display_name": "Python 3"
    },
    "language_info": {
      "name": "python"
    }
  },
  "cells": [
    {
      "cell_type": "code",
      "execution_count": 2,
      "metadata": {
        "id": "QSmlZsRR_1z_"
      },
      "outputs": [],
      "source": [
        "import numpy as np\n",
        "#To use numpy frequently we're assigning it a short form.\n",
        "#instead of adding whole numpy word for every line - we can use np"
      ]
    },
    {
      "cell_type": "code",
      "source": [
        "arr = np.array([1,2,3,4])\n",
        "print(arr)\n",
        "print(type(arr))"
      ],
      "metadata": {
        "colab": {
          "base_uri": "https://localhost:8080/"
        },
        "id": "-7UOZRkSFLfI",
        "outputId": "5654f47c-ee20-4424-e766-cc46897649e4"
      },
      "execution_count": null,
      "outputs": [
        {
          "output_type": "stream",
          "name": "stdout",
          "text": [
            "[1 2 3 4]\n",
            "<class 'numpy.ndarray'>\n"
          ]
        }
      ]
    },
    {
      "cell_type": "code",
      "source": [
        "arr_tup = np.array((1,2,3,4))\n",
        "print(arr_tup)\n",
        "print(type(arr_tup))"
      ],
      "metadata": {
        "colab": {
          "base_uri": "https://localhost:8080/"
        },
        "id": "TYDxz6PIGCrZ",
        "outputId": "ac5b2ead-3d4a-4648-e4e0-11c62f5117c6"
      },
      "execution_count": null,
      "outputs": [
        {
          "output_type": "stream",
          "name": "stdout",
          "text": [
            "[1 2 3 4]\n",
            "<class 'numpy.ndarray'>\n"
          ]
        }
      ]
    },
    {
      "cell_type": "code",
      "source": [
        "one_d_array = np.array([1,2,3,4])\n",
        "print(one_d_array)"
      ],
      "metadata": {
        "colab": {
          "base_uri": "https://localhost:8080/"
        },
        "id": "FXHDoXjjGvk0",
        "outputId": "8a92db04-6a2b-4b1e-b6e2-58ed6c5014ab"
      },
      "execution_count": null,
      "outputs": [
        {
          "output_type": "stream",
          "name": "stdout",
          "text": [
            "[1 2 3 4]\n"
          ]
        }
      ]
    },
    {
      "cell_type": "code",
      "source": [
        "two_d_array = np.array([[1,2,3],[4,5,6]])\n",
        "print(two_d_array)"
      ],
      "metadata": {
        "colab": {
          "base_uri": "https://localhost:8080/"
        },
        "id": "vib-G4LvHR2F",
        "outputId": "51e2abc6-9907-4a88-fada-9bd8d087d91a"
      },
      "execution_count": null,
      "outputs": [
        {
          "output_type": "stream",
          "name": "stdout",
          "text": [
            "[[1 2 3]\n",
            " [4 5 6]]\n"
          ]
        }
      ]
    },
    {
      "cell_type": "code",
      "source": [
        "two_d_array.ndim"
      ],
      "metadata": {
        "colab": {
          "base_uri": "https://localhost:8080/"
        },
        "id": "_OXgnPYiIGyZ",
        "outputId": "0e5af5cd-390a-469a-92a6-45f934c385d6"
      },
      "execution_count": null,
      "outputs": [
        {
          "output_type": "execute_result",
          "data": {
            "text/plain": [
              "2"
            ]
          },
          "metadata": {},
          "execution_count": 6
        }
      ]
    },
    {
      "cell_type": "code",
      "source": [
        "threed_array = np.array([[[1,2,3],[4,5,6]],[[1,2,3],[4,5,6]]])\n",
        "print(threed_array)"
      ],
      "metadata": {
        "colab": {
          "base_uri": "https://localhost:8080/"
        },
        "id": "H5xk2yCoIecj",
        "outputId": "0e3b01c8-d3ad-49ac-fd2d-e97de706ac48"
      },
      "execution_count": null,
      "outputs": [
        {
          "output_type": "stream",
          "name": "stdout",
          "text": [
            "[[[1 2 3]\n",
            "  [4 5 6]]\n",
            "\n",
            " [[1 2 3]\n",
            "  [4 5 6]]]\n"
          ]
        }
      ]
    },
    {
      "cell_type": "code",
      "source": [
        "three_d_array = np.array([[[1,2,3],[4,5,6]],[[1,2,3],[4,5,6]], [[1,2,3],[4,5,6]]])\n",
        "print(three_d_array)\n",
        "three_d_array.astype\n",
        "three_d_array.shape"
      ],
      "metadata": {
        "colab": {
          "base_uri": "https://localhost:8080/"
        },
        "id": "STsVwplpJFcj",
        "outputId": "f0ecf5bd-ed16-45c2-a3af-4f68418928f3"
      },
      "execution_count": null,
      "outputs": [
        {
          "output_type": "stream",
          "name": "stdout",
          "text": [
            "[[[1 2 3]\n",
            "  [4 5 6]]\n",
            "\n",
            " [[1 2 3]\n",
            "  [4 5 6]]\n",
            "\n",
            " [[1 2 3]\n",
            "  [4 5 6]]]\n"
          ]
        },
        {
          "output_type": "execute_result",
          "data": {
            "text/plain": [
              "(3, 2, 3)"
            ]
          },
          "metadata": {},
          "execution_count": 7
        }
      ]
    },
    {
      "cell_type": "markdown",
      "source": [
        "Array Inspection:\n",
        "Numpy Array follows below operations:\n",
        "- ndarray.shape (Matrix form)\n",
        "- ndarray.ndim (Dimensions)\n",
        "- ndarray.size\n",
        "- ndarray.dtype (Data Type)\n",
        "- ndarray.astype ("
      ],
      "metadata": {
        "id": "pcrCJrv6K_u-"
      }
    },
    {
      "cell_type": "code",
      "source": [
        "two_d_array.shape"
      ],
      "metadata": {
        "colab": {
          "base_uri": "https://localhost:8080/"
        },
        "id": "GhtIXiijKf7u",
        "outputId": "3b233bb6-2b90-429f-eae8-35fdffd9c3d3"
      },
      "execution_count": null,
      "outputs": [
        {
          "output_type": "execute_result",
          "data": {
            "text/plain": [
              "(2, 3)"
            ]
          },
          "metadata": {},
          "execution_count": 9
        }
      ]
    },
    {
      "cell_type": "code",
      "source": [
        "one_d_array = np.array([1,2,3,4])\n",
        "one_d_array.shape"
      ],
      "metadata": {
        "colab": {
          "base_uri": "https://localhost:8080/"
        },
        "id": "hH9ThLAktZgI",
        "outputId": "015a843a-02df-49f3-b3ff-29635d033f63"
      },
      "execution_count": null,
      "outputs": [
        {
          "output_type": "execute_result",
          "data": {
            "text/plain": [
              "(4,)"
            ]
          },
          "metadata": {},
          "execution_count": 10
        }
      ]
    },
    {
      "cell_type": "code",
      "source": [
        "#Shape of an Array\n",
        "#For 1-D Array - (No. of 0-D Arrays)\n",
        "#For 2-D Array - (No. of 1-D Array in 2-D, No. of 0-D Array in 1-D)\n",
        "#For 3-D Array - (No. of 2-D Array in 3-D, No. of 1-D Array in 2-D, No. of 0-D Array in 1-D)"
      ],
      "metadata": {
        "id": "BK_8wx28tidv"
      },
      "execution_count": null,
      "outputs": []
    },
    {
      "cell_type": "markdown",
      "source": [
        "Day 2 of Numpy"
      ],
      "metadata": {
        "id": "dgip4VN-OX9M"
      }
    },
    {
      "cell_type": "code",
      "source": [
        "#4-D Array\n",
        "array = np.array([\n",
        "                 [[[1,2,3,4], [5,6,7,8]], [[9,5,6,4], [1,5,6,9]]],\n",
        "                 [[[1,2,3,4], [5,6,7,8]], [[9,5,6,4], [1,5,6,9]]],\n",
        "                 [[[1,2,3,4], [5,6,7,8]], [[9,5,6,4], [1,5,6,9]]]\n",
        "                 ])\n",
        "print(array.shape, array.size, array.dtype, array.itemsize,\n",
        "array.ndim)"
      ],
      "metadata": {
        "colab": {
          "base_uri": "https://localhost:8080/"
        },
        "id": "VgSjzzDp_M4k",
        "outputId": "1fd0f8ed-dc33-46e1-e4c2-3fca391cfb92"
      },
      "execution_count": 2,
      "outputs": [
        {
          "output_type": "stream",
          "name": "stdout",
          "text": [
            "(3, 2, 2, 4) 48 int64 8 4\n"
          ]
        }
      ]
    },
    {
      "cell_type": "code",
      "source": [
        "#Data type of an Array\n",
        "l = np.array([1,2,5,\"Dilip\", True, False, \"Ungaaaaaa\", 1.256])\n",
        "print(l)\n",
        "print(l.dtype)\n",
        "\n",
        "#Array.astype\n",
        "m = np.array([1,2,5,1])\n",
        "print(m)\n",
        "print(m.dtype)\n",
        "m_new = m.astype(\"U32\")\n",
        "print(m_new)\n",
        "print(m_new.dtype)"
      ],
      "metadata": {
        "colab": {
          "base_uri": "https://localhost:8080/"
        },
        "id": "HqRE_skPN_Zo",
        "outputId": "4520d16e-d639-448d-c05a-4b673160bc4b"
      },
      "execution_count": 3,
      "outputs": [
        {
          "output_type": "stream",
          "name": "stdout",
          "text": [
            "['1' '2' '5' 'Dilip' 'True' 'False' 'Ungaaaaaa' '1.256']\n",
            "<U32\n",
            "[1 2 5 1]\n",
            "int64\n",
            "['1' '2' '5' '1']\n",
            "<U32\n"
          ]
        }
      ]
    },
    {
      "cell_type": "markdown",
      "source": [
        "Why Numpy -\n",
        "- Memory - takes less memory\n",
        "- Performs much better than lists\n",
        "- Functionality - Scipy & Numpy have optimized functions built in."
      ],
      "metadata": {
        "id": "_yyLvpmiUo4D"
      }
    },
    {
      "cell_type": "code",
      "source": [
        "# Different ways to create random arrays\n",
        "\n",
        "random_array = np.empty([5,3,4], dtype = int)\n",
        "random_array"
      ],
      "metadata": {
        "colab": {
          "base_uri": "https://localhost:8080/"
        },
        "id": "9gnUrXeiQ-Xy",
        "outputId": "1e9de296-0948-4ba5-bcc6-10127217dbfa"
      },
      "execution_count": 9,
      "outputs": [
        {
          "output_type": "execute_result",
          "data": {
            "text/plain": [
              "array([[[      94248324938142,                    0,\n",
              "           119189669097008225,  7021800530361581568],\n",
              "        [ 7598807797348065145,  7021238715563339375,\n",
              "                 190898004852,    21798917532306546],\n",
              "        [ 8214565722529071104,      176411486715941,\n",
              "         -5876634563762556416,         169416327168]],\n",
              "\n",
              "       [[   11384343394038642,  8214565723317600256,\n",
              "          7955894451564445892,   680606493699699316],\n",
              "        [        895265800193,    80627187664869234,\n",
              "         -2738188568702615552,  2410116712426661381],\n",
              "        [       1225978281984,     9132543580382322,\n",
              "          8214565721019121664,  8030770093904363646]],\n",
              "\n",
              "       [[ 7305985224698328178,  7810759579942609254,\n",
              "          8318818562678813797,   117218934637208178],\n",
              "        [ 8214565720918458368,       56564719288356,\n",
              "          3707025443282711040,         225250902016],\n",
              "        [ 7815263158108162266, -3858740455726301595,\n",
              "           576751023507374080,   576751027802408961]],\n",
              "\n",
              "       [[  576755426050246657,  1153216178219453442,\n",
              "          2306181663358520321,   432633666406320134],\n",
              "        [    4239927424585471,   144398866407556735,\n",
              "           756324357873140991,   453183513093735997],\n",
              "        [  721990281834072581,   291060678133877249,\n",
              "           437698025620703768,   864979204930864643]],\n",
              "\n",
              "       [[  439666658114470141,   144403264551585281,\n",
              "            71230765622493950,   144961928169455743],\n",
              "        [  145811726095417857,   468093981687874049,\n",
              "           432634078689299576,  1009092193949910529],\n",
              "        [  144403264551585281,    35748387463103737,\n",
              "           756323807890702463,         137640478818]]])"
            ]
          },
          "metadata": {},
          "execution_count": 9
        }
      ]
    },
    {
      "cell_type": "code",
      "source": [
        "# Initialize with Zero\n",
        "zero_array = np.zeros([5,3], dtype = int)\n",
        "zero_array"
      ],
      "metadata": {
        "id": "SzTAJquZWO7q",
        "colab": {
          "base_uri": "https://localhost:8080/"
        },
        "outputId": "1ce160bd-0ca1-4f1e-9ff6-18bcafd43818"
      },
      "execution_count": 8,
      "outputs": [
        {
          "output_type": "execute_result",
          "data": {
            "text/plain": [
              "array([[0, 0, 0],\n",
              "       [0, 0, 0],\n",
              "       [0, 0, 0],\n",
              "       [0, 0, 0],\n",
              "       [0, 0, 0]])"
            ]
          },
          "metadata": {},
          "execution_count": 8
        }
      ]
    },
    {
      "cell_type": "code",
      "source": [
        "# Array with ones\n",
        "one_array = np.ones([5,3], dtype = int)\n",
        "one_array"
      ],
      "metadata": {
        "colab": {
          "base_uri": "https://localhost:8080/"
        },
        "id": "b-FxcIzl_vcY",
        "outputId": "f5222d32-852f-4083-d1e0-49c8cae80fb8"
      },
      "execution_count": 10,
      "outputs": [
        {
          "output_type": "execute_result",
          "data": {
            "text/plain": [
              "array([[1, 1, 1],\n",
              "       [1, 1, 1],\n",
              "       [1, 1, 1],\n",
              "       [1, 1, 1],\n",
              "       [1, 1, 1]])"
            ]
          },
          "metadata": {},
          "execution_count": 10
        }
      ]
    },
    {
      "cell_type": "code",
      "source": [
        "arange = np.arange(10)\n",
        "arange"
      ],
      "metadata": {
        "colab": {
          "base_uri": "https://localhost:8080/"
        },
        "id": "qct0Au2qAdyH",
        "outputId": "5a9c2e66-cc24-49aa-d4f1-178944944214"
      },
      "execution_count": 12,
      "outputs": [
        {
          "output_type": "execute_result",
          "data": {
            "text/plain": [
              "array([0, 1, 2, 3, 4, 5, 6, 7, 8, 9])"
            ]
          },
          "metadata": {},
          "execution_count": 12
        }
      ]
    },
    {
      "cell_type": "code",
      "source": [
        "arange = np.arange(10, 20)\n",
        "arange"
      ],
      "metadata": {
        "colab": {
          "base_uri": "https://localhost:8080/"
        },
        "id": "VOH0djj1A2dj",
        "outputId": "3295037a-cc08-43d9-efad-6cac6676e187"
      },
      "execution_count": 13,
      "outputs": [
        {
          "output_type": "execute_result",
          "data": {
            "text/plain": [
              "array([10, 11, 12, 13, 14, 15, 16, 17, 18, 19])"
            ]
          },
          "metadata": {},
          "execution_count": 13
        }
      ]
    },
    {
      "cell_type": "code",
      "source": [
        "x = np.arange(10,25, 2)\n",
        "x"
      ],
      "metadata": {
        "colab": {
          "base_uri": "https://localhost:8080/"
        },
        "id": "UwErBXhjBOwe",
        "outputId": "9d587af7-dd09-4eaf-af29-c2ecc54e214b"
      },
      "execution_count": 23,
      "outputs": [
        {
          "output_type": "execute_result",
          "data": {
            "text/plain": [
              "array([10, 12, 14, 16, 18, 20, 22, 24])"
            ]
          },
          "metadata": {},
          "execution_count": 23
        }
      ]
    },
    {
      "cell_type": "code",
      "source": [
        "lsv = np.arange(25,45,3)\n",
        "lsv"
      ],
      "metadata": {
        "colab": {
          "base_uri": "https://localhost:8080/"
        },
        "id": "kUuS_rx0BT8_",
        "outputId": "ecdaf3be-6afc-4eea-ed7b-572bf59e852c"
      },
      "execution_count": 24,
      "outputs": [
        {
          "output_type": "execute_result",
          "data": {
            "text/plain": [
              "array([25, 28, 31, 34, 37, 40, 43])"
            ]
          },
          "metadata": {},
          "execution_count": 24
        }
      ]
    },
    {
      "cell_type": "code",
      "source": [
        "#Linspace - Generates equidistant values inside the array\n",
        "linspace = np.linspace(10,20,5, endpoint = False, retstep= True)\n",
        "linspace"
      ],
      "metadata": {
        "colab": {
          "base_uri": "https://localhost:8080/"
        },
        "id": "1mHgWLvqEBm4",
        "outputId": "63d9a74a-8d3f-49a7-a3e3-9767510f8aee"
      },
      "execution_count": 27,
      "outputs": [
        {
          "output_type": "execute_result",
          "data": {
            "text/plain": [
              "(array([10., 12., 14., 16., 18.]), 2.0)"
            ]
          },
          "metadata": {},
          "execution_count": 27
        }
      ]
    },
    {
      "cell_type": "code",
      "source": [
        "#Random Function\n",
        "random_array = np.random.random([5,3])\n",
        "random_array"
      ],
      "metadata": {
        "colab": {
          "base_uri": "https://localhost:8080/"
        },
        "id": "LSENyId1EL0Q",
        "outputId": "2602601b-b5ea-4519-f90a-0993586ab957"
      },
      "execution_count": 30,
      "outputs": [
        {
          "output_type": "execute_result",
          "data": {
            "text/plain": [
              "array([[0.72154932, 0.99757017, 0.59313236],\n",
              "       [0.54196004, 0.51428321, 0.59400474],\n",
              "       [0.21838695, 0.0461223 , 0.34743111],\n",
              "       [0.89928419, 0.20009607, 0.90449996],\n",
              "       [0.53310913, 0.07441226, 0.99747996]])"
            ]
          },
          "metadata": {},
          "execution_count": 30
        }
      ]
    },
    {
      "cell_type": "code",
      "source": [
        "rand_array = np.random.randint(5,15, size = (3,2,4))\n",
        "rand_array"
      ],
      "metadata": {
        "colab": {
          "base_uri": "https://localhost:8080/"
        },
        "id": "FSF9x1AvF9fQ",
        "outputId": "012c7b9a-d6ef-4211-a87d-15b491016d58"
      },
      "execution_count": 34,
      "outputs": [
        {
          "output_type": "execute_result",
          "data": {
            "text/plain": [
              "array([[[ 9, 10,  5, 11],\n",
              "        [13,  7, 13,  6]],\n",
              "\n",
              "       [[13, 13, 12,  8],\n",
              "        [ 6, 14,  8,  6]],\n",
              "\n",
              "       [[ 6,  6, 12,  9],\n",
              "        [ 6,  7,  9, 13]]])"
            ]
          },
          "metadata": {},
          "execution_count": 34
        }
      ]
    },
    {
      "cell_type": "code",
      "source": [
        "#Indexing and Slicing in Array\n",
        "a = np.random.random(10)\n",
        "a"
      ],
      "metadata": {
        "colab": {
          "base_uri": "https://localhost:8080/"
        },
        "id": "F3O86UF8GI6J",
        "outputId": "72b85d09-a74a-4cb3-95de-eefa8c8159cc"
      },
      "execution_count": 39,
      "outputs": [
        {
          "output_type": "execute_result",
          "data": {
            "text/plain": [
              "array([0.59380419, 0.51647705, 0.04410845, 0.86228722, 0.93922537,\n",
              "       0.21781216, 0.39542541, 0.50023398, 0.00163715, 0.83849057])"
            ]
          },
          "metadata": {},
          "execution_count": 39
        }
      ]
    },
    {
      "cell_type": "code",
      "source": [
        "a[::2]"
      ],
      "metadata": {
        "colab": {
          "base_uri": "https://localhost:8080/"
        },
        "id": "VKybGVAJIH5j",
        "outputId": "945ee71d-aa26-43b4-d5bb-e9ab18586ef8"
      },
      "execution_count": 40,
      "outputs": [
        {
          "output_type": "execute_result",
          "data": {
            "text/plain": [
              "array([0.59380419, 0.04410845, 0.93922537, 0.39542541, 0.00163715])"
            ]
          },
          "metadata": {},
          "execution_count": 40
        }
      ]
    },
    {
      "cell_type": "code",
      "source": [
        "a[1:4:]"
      ],
      "metadata": {
        "colab": {
          "base_uri": "https://localhost:8080/"
        },
        "id": "YRY4aoW-X8qa",
        "outputId": "b4fcbf3c-b312-411a-d096-5f71380e415c"
      },
      "execution_count": 42,
      "outputs": [
        {
          "output_type": "execute_result",
          "data": {
            "text/plain": [
              "array([0.51647705, 0.04410845, 0.86228722])"
            ]
          },
          "metadata": {},
          "execution_count": 42
        }
      ]
    },
    {
      "cell_type": "code",
      "source": [
        "#Slicing of a 2-D Array\n",
        "two_d_array = np.array([[1,2,3,4],[5,6,7,8],[9,8,9,4]])\n",
        "two_d_array[0:2]"
      ],
      "metadata": {
        "colab": {
          "base_uri": "https://localhost:8080/"
        },
        "id": "WuC3_j5SYHNi",
        "outputId": "9dc6d186-58f2-4d6b-97cc-869867ca7a42"
      },
      "execution_count": 45,
      "outputs": [
        {
          "output_type": "execute_result",
          "data": {
            "text/plain": [
              "array([[1, 2, 3, 4],\n",
              "       [5, 6, 7, 8]])"
            ]
          },
          "metadata": {},
          "execution_count": 45
        }
      ]
    },
    {
      "cell_type": "code",
      "source": [
        "two_d_array[0:2, 1:3]"
      ],
      "metadata": {
        "colab": {
          "base_uri": "https://localhost:8080/"
        },
        "id": "xTJtocFtZJEF",
        "outputId": "d03c7001-7f14-45e0-fb56-952dc785132f"
      },
      "execution_count": 46,
      "outputs": [
        {
          "output_type": "execute_result",
          "data": {
            "text/plain": [
              "array([[2, 3],\n",
              "       [6, 7]])"
            ]
          },
          "metadata": {},
          "execution_count": 46
        }
      ]
    },
    {
      "cell_type": "code",
      "source": [
        "two_d_array[1:, 1:]"
      ],
      "metadata": {
        "colab": {
          "base_uri": "https://localhost:8080/"
        },
        "id": "u2w5BABia1tM",
        "outputId": "9616304d-10cd-42eb-e2ea-9f00f4ad0842"
      },
      "execution_count": 47,
      "outputs": [
        {
          "output_type": "execute_result",
          "data": {
            "text/plain": [
              "array([[6, 7, 8],\n",
              "       [8, 9, 4]])"
            ]
          },
          "metadata": {},
          "execution_count": 47
        }
      ]
    },
    {
      "cell_type": "code",
      "source": [
        "#For a 3-D Array\n",
        "a = np.array([[[1,2,3,4],[5,6,7,8]],[[1,2,3,4],[5,6,7,8]],[[1,2,3,4],[5,6,7,8]] ])\n",
        "a[0:2, 1:,1:]"
      ],
      "metadata": {
        "colab": {
          "base_uri": "https://localhost:8080/"
        },
        "id": "GDUJhX6hbqiz",
        "outputId": "197fbf4c-01de-47cc-c1e3-7eda20c65a78"
      },
      "execution_count": 53,
      "outputs": [
        {
          "output_type": "execute_result",
          "data": {
            "text/plain": [
              "array([[[6, 7, 8]],\n",
              "\n",
              "       [[6, 7, 8]]])"
            ]
          },
          "metadata": {},
          "execution_count": 53
        }
      ]
    },
    {
      "cell_type": "code",
      "source": [
        "a = np.random.randint(5,15, size = (3,2,4))\n",
        "a"
      ],
      "metadata": {
        "colab": {
          "base_uri": "https://localhost:8080/"
        },
        "id": "ReAbAWDLb_A3",
        "outputId": "8deb3e1a-f977-465d-cd02-171b4150917f"
      },
      "execution_count": 54,
      "outputs": [
        {
          "output_type": "execute_result",
          "data": {
            "text/plain": [
              "array([[[13,  8,  7, 14],\n",
              "        [ 6,  7, 10, 10]],\n",
              "\n",
              "       [[ 9, 11, 10, 13],\n",
              "        [ 6, 14,  7, 10]],\n",
              "\n",
              "       [[ 6, 13,  5, 13],\n",
              "        [ 6, 10, 12, 12]]])"
            ]
          },
          "metadata": {},
          "execution_count": 54
        }
      ]
    },
    {
      "cell_type": "code",
      "source": [
        "a[1:, 1:2, 1:3]"
      ],
      "metadata": {
        "colab": {
          "base_uri": "https://localhost:8080/"
        },
        "id": "kBtBghveewM2",
        "outputId": "b3a0d534-1ed3-4e95-a81f-d1cdf8b74740"
      },
      "execution_count": 56,
      "outputs": [
        {
          "output_type": "execute_result",
          "data": {
            "text/plain": [
              "array([[[14,  7]],\n",
              "\n",
              "       [[10, 12]]])"
            ]
          },
          "metadata": {},
          "execution_count": 56
        }
      ]
    },
    {
      "cell_type": "code",
      "source": [
        "#Transpose Function\n",
        "transpose = np.array(np.random.randint(10,45, (8,2)))\n",
        "transpose"
      ],
      "metadata": {
        "colab": {
          "base_uri": "https://localhost:8080/"
        },
        "id": "o6gAPB9Ve9DQ",
        "outputId": "bb4e84a8-7011-410a-bade-b34cd317f388"
      },
      "execution_count": 57,
      "outputs": [
        {
          "output_type": "execute_result",
          "data": {
            "text/plain": [
              "array([[44, 23],\n",
              "       [19, 21],\n",
              "       [28, 21],\n",
              "       [11, 11],\n",
              "       [21, 21],\n",
              "       [18, 38],\n",
              "       [32, 14],\n",
              "       [39, 19]])"
            ]
          },
          "metadata": {},
          "execution_count": 57
        }
      ]
    },
    {
      "cell_type": "code",
      "source": [
        "np.transpose(transpose)"
      ],
      "metadata": {
        "colab": {
          "base_uri": "https://localhost:8080/"
        },
        "id": "IiNrQPhHfSkz",
        "outputId": "42f034e7-be06-41d7-fe5f-a2b161d5b83d"
      },
      "execution_count": 58,
      "outputs": [
        {
          "output_type": "execute_result",
          "data": {
            "text/plain": [
              "array([[44, 19, 28, 11, 21, 18, 32, 39],\n",
              "       [23, 21, 21, 11, 21, 38, 14, 19]])"
            ]
          },
          "metadata": {},
          "execution_count": 58
        }
      ]
    },
    {
      "cell_type": "code",
      "source": [
        "#Remaining-----\n",
        "#np.flatten\n",
        "\n",
        "#basic operations\n",
        "\n",
        "# np.add()\n",
        "# np.substract()\n",
        "# np.multiply\n",
        "# no.divide\n"
      ],
      "metadata": {
        "id": "t1Rj4lSVfWUc"
      },
      "execution_count": null,
      "outputs": []
    }
  ]
}