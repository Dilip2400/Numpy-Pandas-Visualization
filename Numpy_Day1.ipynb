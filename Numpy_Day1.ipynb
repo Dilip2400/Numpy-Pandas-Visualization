{
  "nbformat": 4,
  "nbformat_minor": 0,
  "metadata": {
    "colab": {
      "provenance": []
    },
    "kernelspec": {
      "name": "python3",
      "display_name": "Python 3"
    },
    "language_info": {
      "name": "python"
    }
  },
  "cells": [
    {
      "cell_type": "code",
      "execution_count": 3,
      "metadata": {
        "id": "QSmlZsRR_1z_"
      },
      "outputs": [],
      "source": [
        "import numpy as np\n",
        "#To use numpy frequently we're assigning it a short form.\n",
        "#instead of adding whole numpy word for every line - we can use np"
      ]
    },
    {
      "cell_type": "code",
      "source": [
        "arr = np.array([1,2,3,4])\n",
        "print(arr)\n",
        "print(type(arr))"
      ],
      "metadata": {
        "colab": {
          "base_uri": "https://localhost:8080/"
        },
        "id": "-7UOZRkSFLfI",
        "outputId": "5654f47c-ee20-4424-e766-cc46897649e4"
      },
      "execution_count": 2,
      "outputs": [
        {
          "output_type": "stream",
          "name": "stdout",
          "text": [
            "[1 2 3 4]\n",
            "<class 'numpy.ndarray'>\n"
          ]
        }
      ]
    },
    {
      "cell_type": "code",
      "source": [
        "arr_tup = np.array((1,2,3,4))\n",
        "print(arr_tup)\n",
        "print(type(arr_tup))"
      ],
      "metadata": {
        "colab": {
          "base_uri": "https://localhost:8080/"
        },
        "id": "TYDxz6PIGCrZ",
        "outputId": "ac5b2ead-3d4a-4648-e4e0-11c62f5117c6"
      },
      "execution_count": 3,
      "outputs": [
        {
          "output_type": "stream",
          "name": "stdout",
          "text": [
            "[1 2 3 4]\n",
            "<class 'numpy.ndarray'>\n"
          ]
        }
      ]
    },
    {
      "cell_type": "code",
      "source": [
        "one_d_array = np.array([1,2,3,4])\n",
        "print(one_d_array)"
      ],
      "metadata": {
        "colab": {
          "base_uri": "https://localhost:8080/"
        },
        "id": "FXHDoXjjGvk0",
        "outputId": "8a92db04-6a2b-4b1e-b6e2-58ed6c5014ab"
      },
      "execution_count": 4,
      "outputs": [
        {
          "output_type": "stream",
          "name": "stdout",
          "text": [
            "[1 2 3 4]\n"
          ]
        }
      ]
    },
    {
      "cell_type": "code",
      "source": [
        "two_d_array = np.array([[1,2,3],[4,5,6]])\n",
        "print(two_d_array)"
      ],
      "metadata": {
        "colab": {
          "base_uri": "https://localhost:8080/"
        },
        "id": "vib-G4LvHR2F",
        "outputId": "51e2abc6-9907-4a88-fada-9bd8d087d91a"
      },
      "execution_count": 4,
      "outputs": [
        {
          "output_type": "stream",
          "name": "stdout",
          "text": [
            "[[1 2 3]\n",
            " [4 5 6]]\n"
          ]
        }
      ]
    },
    {
      "cell_type": "code",
      "source": [
        "two_d_array.ndim"
      ],
      "metadata": {
        "colab": {
          "base_uri": "https://localhost:8080/"
        },
        "id": "_OXgnPYiIGyZ",
        "outputId": "0e5af5cd-390a-469a-92a6-45f934c385d6"
      },
      "execution_count": 6,
      "outputs": [
        {
          "output_type": "execute_result",
          "data": {
            "text/plain": [
              "2"
            ]
          },
          "metadata": {},
          "execution_count": 6
        }
      ]
    },
    {
      "cell_type": "code",
      "source": [
        "threed_array = np.array([[[1,2,3],[4,5,6]],[[1,2,3],[4,5,6]]])\n",
        "print(threed_array)"
      ],
      "metadata": {
        "colab": {
          "base_uri": "https://localhost:8080/"
        },
        "id": "H5xk2yCoIecj",
        "outputId": "0e3b01c8-d3ad-49ac-fd2d-e97de706ac48"
      },
      "execution_count": 7,
      "outputs": [
        {
          "output_type": "stream",
          "name": "stdout",
          "text": [
            "[[[1 2 3]\n",
            "  [4 5 6]]\n",
            "\n",
            " [[1 2 3]\n",
            "  [4 5 6]]]\n"
          ]
        }
      ]
    },
    {
      "cell_type": "code",
      "source": [
        "three_d_array = np.array([[[1,2,3],[4,5,6]],[[1,2,3],[4,5,6]], [[1,2,3],[4,5,6]]])\n",
        "print(three_d_array)\n",
        "three_d_array.astype\n",
        "three_d_array.shape"
      ],
      "metadata": {
        "colab": {
          "base_uri": "https://localhost:8080/"
        },
        "id": "STsVwplpJFcj",
        "outputId": "f0ecf5bd-ed16-45c2-a3af-4f68418928f3"
      },
      "execution_count": 7,
      "outputs": [
        {
          "output_type": "stream",
          "name": "stdout",
          "text": [
            "[[[1 2 3]\n",
            "  [4 5 6]]\n",
            "\n",
            " [[1 2 3]\n",
            "  [4 5 6]]\n",
            "\n",
            " [[1 2 3]\n",
            "  [4 5 6]]]\n"
          ]
        },
        {
          "output_type": "execute_result",
          "data": {
            "text/plain": [
              "(3, 2, 3)"
            ]
          },
          "metadata": {},
          "execution_count": 7
        }
      ]
    },
    {
      "cell_type": "markdown",
      "source": [
        "Array Inspection:\n",
        "Numpy Array follows below operations:\n",
        "- ndarray.shape (Matrix form)\n",
        "- ndarray.ndim (Dimensions)\n",
        "- ndarray.size\n",
        "- ndarray.dtype (Data Type)\n",
        "- ndarray.astype ("
      ],
      "metadata": {
        "id": "pcrCJrv6K_u-"
      }
    },
    {
      "cell_type": "code",
      "source": [
        "two_d_array.shape"
      ],
      "metadata": {
        "colab": {
          "base_uri": "https://localhost:8080/"
        },
        "id": "GhtIXiijKf7u",
        "outputId": "3b233bb6-2b90-429f-eae8-35fdffd9c3d3"
      },
      "execution_count": 9,
      "outputs": [
        {
          "output_type": "execute_result",
          "data": {
            "text/plain": [
              "(2, 3)"
            ]
          },
          "metadata": {},
          "execution_count": 9
        }
      ]
    },
    {
      "cell_type": "code",
      "source": [
        "one_d_array = np.array([1,2,3,4])\n",
        "one_d_array.shape"
      ],
      "metadata": {
        "colab": {
          "base_uri": "https://localhost:8080/"
        },
        "id": "hH9ThLAktZgI",
        "outputId": "015a843a-02df-49f3-b3ff-29635d033f63"
      },
      "execution_count": 10,
      "outputs": [
        {
          "output_type": "execute_result",
          "data": {
            "text/plain": [
              "(4,)"
            ]
          },
          "metadata": {},
          "execution_count": 10
        }
      ]
    },
    {
      "cell_type": "code",
      "source": [
        "#Shape of an Array\n",
        "#For 1-D Array - (No. of 0-D Arrays)\n",
        "#For 2-D Array - (No. of 1-D Array in 2-D, No. of 0-D Array in 1-D)\n",
        "#For 3-D Array - (No. of 2-D Array in 3-D, No. of 1-D Array in 2-D, No. of 0-D Array in 1-D)"
      ],
      "metadata": {
        "id": "BK_8wx28tidv"
      },
      "execution_count": 11,
      "outputs": []
    },
    {
      "cell_type": "code",
      "source": [],
      "metadata": {
        "id": "VgSjzzDp_M4k"
      },
      "execution_count": null,
      "outputs": []
    }
  ]
}