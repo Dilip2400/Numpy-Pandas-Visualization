{
  "nbformat": 4,
  "nbformat_minor": 0,
  "metadata": {
    "colab": {
      "provenance": []
    },
    "kernelspec": {
      "name": "python3",
      "display_name": "Python 3"
    },
    "language_info": {
      "name": "python"
    }
  },
  "cells": [
    {
      "cell_type": "markdown",
      "source": [
        "Pandas\n",
        "- Fast, flexible, and designed to work with tabular data.\n",
        "- Designed to make work easier with structured data.\n",
        "\n",
        "--- Robust for loading the data from files like CSV, Excel etc.\n",
        "\n",
        "--- Easy handling of any kind of missing values in the data (NaN Values)\n",
        "\n",
        "--- Size Mutability: Columns can be inserted and deleted"
      ],
      "metadata": {
        "id": "YWnZGQ0ROiHa"
      }
    },
    {
      "cell_type": "code",
      "source": [
        "import numpy as np\n",
        "import pandas as pd"
      ],
      "metadata": {
        "id": "z1_pSI2LOgdk"
      },
      "execution_count": 1,
      "outputs": []
    },
    {
      "cell_type": "code",
      "execution_count": null,
      "metadata": {
        "colab": {
          "base_uri": "https://localhost:8080/",
          "height": 35
        },
        "id": "M_umXfkwNwhe",
        "outputId": "b8087731-5e1e-4411-9f73-d82bb27c2e8d"
      },
      "outputs": [
        {
          "output_type": "execute_result",
          "data": {
            "text/plain": [
              "'2.1.4'"
            ],
            "application/vnd.google.colaboratory.intrinsic+json": {
              "type": "string"
            }
          },
          "metadata": {},
          "execution_count": 2
        }
      ],
      "source": [
        "pd.__version__"
      ]
    },
    {
      "cell_type": "code",
      "source": [
        "# Pandas Dataframe - A two-D Structure where data is aligned in a tabular form."
      ],
      "metadata": {
        "id": "_iIlccdPR-lU"
      },
      "execution_count": null,
      "outputs": []
    },
    {
      "cell_type": "code",
      "source": [
        "#First series of df(DataFrame)\n",
        "data = np.array(['a','b','c','d'])\n",
        "s1 = pd.Series(data)\n",
        "print(s1)"
      ],
      "metadata": {
        "colab": {
          "base_uri": "https://localhost:8080/"
        },
        "id": "wH5HCEm1TF61",
        "outputId": "187296f6-9d71-4e1c-ddfb-cf61608c66dd"
      },
      "execution_count": null,
      "outputs": [
        {
          "output_type": "stream",
          "name": "stdout",
          "text": [
            "0    a\n",
            "1    b\n",
            "2    c\n",
            "3    d\n",
            "dtype: object\n"
          ]
        }
      ]
    },
    {
      "cell_type": "code",
      "source": [
        "num_series = pd.Series([1,2,3,4], index=['a','b','c','d'])\n",
        "print(num_series)"
      ],
      "metadata": {
        "colab": {
          "base_uri": "https://localhost:8080/"
        },
        "id": "a5K_NDJuTL7N",
        "outputId": "3eaad42b-4290-4632-c265-febae30a7e9e"
      },
      "execution_count": null,
      "outputs": [
        {
          "output_type": "stream",
          "name": "stdout",
          "text": [
            "a    1\n",
            "b    2\n",
            "c    3\n",
            "d    4\n",
            "dtype: int64\n"
          ]
        }
      ]
    },
    {
      "cell_type": "code",
      "source": [
        "#First Pandas DataFrame\n",
        "two_d = np.random.randint(5,10, (3,4))\n",
        "first_df = pd.DataFrame(two_d, columns = [\"a\", \"b\", \"c\", \"d\"])\n",
        "print(first_df)"
      ],
      "metadata": {
        "colab": {
          "base_uri": "https://localhost:8080/"
        },
        "id": "XjjpOyBYTc9X",
        "outputId": "254f773e-3068-40e1-90df-521b289c3967"
      },
      "execution_count": null,
      "outputs": [
        {
          "output_type": "stream",
          "name": "stdout",
          "text": [
            "   a  b  c  d\n",
            "0  6  9  6  5\n",
            "1  5  5  6  8\n",
            "2  5  7  6  5\n"
          ]
        }
      ]
    },
    {
      "cell_type": "code",
      "source": [
        "two_d = np.random.randint(10,35, (3,4))\n",
        "hello_df = pd.DataFrame(two_d, columns = [\"a\", \"b\", \"c\", \"d\"], index = [\"A\", \"B\", \"C\"])\n",
        "print(hello_df)\n",
        "#"
      ],
      "metadata": {
        "colab": {
          "base_uri": "https://localhost:8080/"
        },
        "id": "lyfFn36OVIxf",
        "outputId": "e78ba567-a0dd-40ad-9c43-6c4f1cb37a23"
      },
      "execution_count": null,
      "outputs": [
        {
          "output_type": "stream",
          "name": "stdout",
          "text": [
            "    a   b   c   d\n",
            "A  13  14  33  15\n",
            "B  34  26  32  23\n",
            "C  28  12  19  29\n"
          ]
        }
      ]
    },
    {
      "cell_type": "code",
      "source": [
        "num_series = pd.Series([1,2,3,4,5,6], index = ['a','b','c','d','e','f'], name = \"Number\")\n",
        "df = pd.DataFrame(num_series)\n",
        "print(df)"
      ],
      "metadata": {
        "colab": {
          "base_uri": "https://localhost:8080/"
        },
        "id": "w_mKRua4mDf7",
        "outputId": "158d43ca-b813-4cde-adfc-51b2bbe01b8d"
      },
      "execution_count": null,
      "outputs": [
        {
          "output_type": "stream",
          "name": "stdout",
          "text": [
            "   Number\n",
            "a       1\n",
            "b       2\n",
            "c       3\n",
            "d       4\n",
            "e       5\n",
            "f       6\n"
          ]
        }
      ]
    },
    {
      "cell_type": "code",
      "source": [
        "dilip_fav = np.random.randint(10,35, (3,4))\n",
        "dilip_df = pd.DataFrame(dilip_fav, columns = [\"a\", \"b\", \"c\", \"d\"], index = [\"English\", \"Telugu\", \"Social\"])\n",
        "print(dilip_df)"
      ],
      "metadata": {
        "id": "S4v4pLGtorPD",
        "colab": {
          "base_uri": "https://localhost:8080/"
        },
        "outputId": "4dfafae6-8438-4e02-de94-af081e349779"
      },
      "execution_count": 3,
      "outputs": [
        {
          "output_type": "stream",
          "name": "stdout",
          "text": [
            "          a   b   c   d\n",
            "English  26  11  34  34\n",
            "Telugu   34  15  12  20\n",
            "Social   14  23  29  34\n"
          ]
        }
      ]
    },
    {
      "cell_type": "code",
      "source": [
        "# prompt: create a dataframe with 2 columns and 10 rows\n",
        "\n",
        "import pandas as pd\n",
        "import numpy as np\n",
        "\n",
        "data = np.random.rand(10, 2)  # Generate random data\n",
        "df = pd.DataFrame(data, columns=['Column1', 'Column2'])\n",
        "print(df)\n"
      ],
      "metadata": {
        "colab": {
          "base_uri": "https://localhost:8080/"
        },
        "id": "2PL-0PMft47J",
        "outputId": "45015f8a-7c58-4ff7-9374-02aee171538b"
      },
      "execution_count": 4,
      "outputs": [
        {
          "output_type": "stream",
          "name": "stdout",
          "text": [
            "    Column1   Column2\n",
            "0  0.630017  0.381914\n",
            "1  0.681989  0.153395\n",
            "2  0.734926  0.897958\n",
            "3  0.220032  0.300218\n",
            "4  0.965603  0.784941\n",
            "5  0.476778  0.287787\n",
            "6  0.869150  0.906831\n",
            "7  0.569745  0.547062\n",
            "8  0.076127  0.822950\n",
            "9  0.616582  0.499658\n"
          ]
        }
      ]
    },
    {
      "cell_type": "code",
      "source": [
        "list_of_lists = [[\"Dilip\", 24], [\"Vasu\", 2], [\"Neimisha\", 27]]\n",
        "df = pd.DataFrame(list_of_lists, columns = [\"Name\", \"Age\"], index = (1,2,3))\n",
        "print(df)"
      ],
      "metadata": {
        "colab": {
          "base_uri": "https://localhost:8080/"
        },
        "id": "4TL-mOaPujBm",
        "outputId": "2d6f4d71-727a-4f5f-d8b3-a65ea76425da"
      },
      "execution_count": 6,
      "outputs": [
        {
          "output_type": "stream",
          "name": "stdout",
          "text": [
            "       Name  Age\n",
            "1     Dilip   24\n",
            "2      Vasu    2\n",
            "3  Neimisha   27\n"
          ]
        }
      ]
    },
    {
      "cell_type": "code",
      "source": [
        "employee_dict = {\"Employee Name\": [\"Dilip\", \"Vasu\", \"Neimisha\", \"Kishore\"], \"Age\": [24, 2, 27, 31], \"Income $\": [65000,\n",
        "                                                                                                               55000, 60000, 85000]}\n",
        "df = pd.DataFrame(employee_dict)\n",
        "print(df)"
      ],
      "metadata": {
        "colab": {
          "base_uri": "https://localhost:8080/"
        },
        "id": "g4J5aPobvcM1",
        "outputId": "25f6523c-1f65-460d-c59f-599781fb6a1e"
      },
      "execution_count": 12,
      "outputs": [
        {
          "output_type": "stream",
          "name": "stdout",
          "text": [
            "  Employee Name  Age  Income $\n",
            "0         Dilip   24     65000\n",
            "1          Vasu    2     55000\n",
            "2      Neimisha   27     60000\n",
            "3       Kishore   31     85000\n"
          ]
        }
      ]
    },
    {
      "cell_type": "code",
      "source": [
        "series_dict = {\"First Series\": pd.Series([1,2,3,4]), \"Second Series\": pd.Series([5,6,7,8])}\n",
        "df = pd.DataFrame(series_dict)\n",
        "print(df)"
      ],
      "metadata": {
        "colab": {
          "base_uri": "https://localhost:8080/"
        },
        "id": "XNrlifg5wuh5",
        "outputId": "527c741a-b3f2-4e04-e95b-59349a4e87ec"
      },
      "execution_count": 13,
      "outputs": [
        {
          "output_type": "stream",
          "name": "stdout",
          "text": [
            "   First Series  Second Series\n",
            "0             1              5\n",
            "1             2              6\n",
            "2             3              7\n",
            "3             4              8\n"
          ]
        }
      ]
    },
    {
      "cell_type": "code",
      "source": [
        "list_of_dict = [{\"a\": 1, \"b\": 2}, {\"a\": 5, \"b\": 10, \"c\": 20}]\n",
        "df = pd.DataFrame(list_of_dict, index = (1,2))\n",
        "print(df)"
      ],
      "metadata": {
        "colab": {
          "base_uri": "https://localhost:8080/"
        },
        "id": "6RdmO_exxsVI",
        "outputId": "e5567233-c501-4e32-c7bf-0f99002c310d"
      },
      "execution_count": 15,
      "outputs": [
        {
          "output_type": "stream",
          "name": "stdout",
          "text": [
            "   a   b     c\n",
            "1  1   2   NaN\n",
            "2  5  10  20.0\n"
          ]
        }
      ]
    },
    {
      "cell_type": "code",
      "source": [
        "list_a = [\"Guntur Kaaram\", \"Khaleja\", \"Athadu\"]\n",
        "list_b = [\"1\", \"Businessman\", \"Pokiri\"]\n",
        "list_of_tuples = list(zip(list_a, list_b))\n",
        "#print(list_of_tuples)\n",
        "df = pd.DataFrame(list_of_tuples, columns = [\"MBx3V\", \"MBxPuri\"], index = (1,2,3))\n",
        "print(df)"
      ],
      "metadata": {
        "colab": {
          "base_uri": "https://localhost:8080/"
        },
        "id": "zpQPAWe9yEUi",
        "outputId": "5810dde6-e4d4-434b-8d5a-ff7d739475cc"
      },
      "execution_count": 21,
      "outputs": [
        {
          "output_type": "stream",
          "name": "stdout",
          "text": [
            "           MBx3V      MBxPuri\n",
            "1  Guntur Kaaram            1\n",
            "2        Khaleja  Businessman\n",
            "3         Athadu       Pokiri\n"
          ]
        }
      ]
    },
    {
      "cell_type": "code",
      "source": [
        "#Create a DataFrame with 100 rows and 5 Different columns\n",
        "our_array = np.random.randn(100,5)\n",
        "#print(our_array)\n",
        "df = pd.DataFrame(our_array, columns = [\"a\", \"b\", \"c\", \"d\", \"e\"])\n",
        "print(df)"
      ],
      "metadata": {
        "colab": {
          "base_uri": "https://localhost:8080/"
        },
        "id": "naILX13szoMp",
        "outputId": "51c99694-95cd-4955-f20b-8fc52c8b1732"
      },
      "execution_count": 26,
      "outputs": [
        {
          "output_type": "stream",
          "name": "stdout",
          "text": [
            "           a         b         c         d         e\n",
            "0  -0.107680  0.469468  2.131453 -0.609228  1.270563\n",
            "1   0.515775  1.666263  1.573866  0.467411 -0.148150\n",
            "2  -0.713023 -0.521624 -0.349166 -0.583255  0.472533\n",
            "3  -0.150903  1.045938 -1.400772 -1.610778  0.195928\n",
            "4  -0.028928  1.924387 -0.186663  0.291858  1.020045\n",
            "..       ...       ...       ...       ...       ...\n",
            "95  0.880404  0.158345  0.654562  1.507769  2.514581\n",
            "96 -0.220484 -0.754071  0.282912  0.512830 -0.766497\n",
            "97  0.760020 -0.635551  0.573110  0.274322 -0.435953\n",
            "98  0.472688  2.122444  0.351854  1.177349  0.801094\n",
            "99  0.195648  0.355175  1.640748 -0.658826 -0.130411\n",
            "\n",
            "[100 rows x 5 columns]\n"
          ]
        }
      ]
    },
    {
      "cell_type": "code",
      "source": [],
      "metadata": {
        "colab": {
          "base_uri": "https://localhost:8080/",
          "height": 206
        },
        "id": "uWyaQIkF0S3e",
        "outputId": "9b6c716e-4563-4264-d1a7-89b4e5053ac9"
      },
      "execution_count": 24,
      "outputs": [
        {
          "output_type": "execute_result",
          "data": {
            "text/plain": [
              "          a         b         c         d         e\n",
              "0  0.128755  2.180570  1.459356 -0.485941  0.060003\n",
              "1 -0.287279  1.167293  1.861950 -1.815995  0.969489\n",
              "2 -0.365775  1.210940 -1.615533  0.193410  0.372486\n",
              "3  0.519851 -0.435057 -1.335022  0.057082 -1.067158\n",
              "4 -0.097838 -1.505847  1.353263  0.051439  0.732169"
            ],
            "text/html": [
              "\n",
              "  <div id=\"df-b009f28e-51aa-44b7-908b-8628ab0e8d0e\" class=\"colab-df-container\">\n",
              "    <div>\n",
              "<style scoped>\n",
              "    .dataframe tbody tr th:only-of-type {\n",
              "        vertical-align: middle;\n",
              "    }\n",
              "\n",
              "    .dataframe tbody tr th {\n",
              "        vertical-align: top;\n",
              "    }\n",
              "\n",
              "    .dataframe thead th {\n",
              "        text-align: right;\n",
              "    }\n",
              "</style>\n",
              "<table border=\"1\" class=\"dataframe\">\n",
              "  <thead>\n",
              "    <tr style=\"text-align: right;\">\n",
              "      <th></th>\n",
              "      <th>a</th>\n",
              "      <th>b</th>\n",
              "      <th>c</th>\n",
              "      <th>d</th>\n",
              "      <th>e</th>\n",
              "    </tr>\n",
              "  </thead>\n",
              "  <tbody>\n",
              "    <tr>\n",
              "      <th>0</th>\n",
              "      <td>0.128755</td>\n",
              "      <td>2.180570</td>\n",
              "      <td>1.459356</td>\n",
              "      <td>-0.485941</td>\n",
              "      <td>0.060003</td>\n",
              "    </tr>\n",
              "    <tr>\n",
              "      <th>1</th>\n",
              "      <td>-0.287279</td>\n",
              "      <td>1.167293</td>\n",
              "      <td>1.861950</td>\n",
              "      <td>-1.815995</td>\n",
              "      <td>0.969489</td>\n",
              "    </tr>\n",
              "    <tr>\n",
              "      <th>2</th>\n",
              "      <td>-0.365775</td>\n",
              "      <td>1.210940</td>\n",
              "      <td>-1.615533</td>\n",
              "      <td>0.193410</td>\n",
              "      <td>0.372486</td>\n",
              "    </tr>\n",
              "    <tr>\n",
              "      <th>3</th>\n",
              "      <td>0.519851</td>\n",
              "      <td>-0.435057</td>\n",
              "      <td>-1.335022</td>\n",
              "      <td>0.057082</td>\n",
              "      <td>-1.067158</td>\n",
              "    </tr>\n",
              "    <tr>\n",
              "      <th>4</th>\n",
              "      <td>-0.097838</td>\n",
              "      <td>-1.505847</td>\n",
              "      <td>1.353263</td>\n",
              "      <td>0.051439</td>\n",
              "      <td>0.732169</td>\n",
              "    </tr>\n",
              "  </tbody>\n",
              "</table>\n",
              "</div>\n",
              "    <div class=\"colab-df-buttons\">\n",
              "\n",
              "  <div class=\"colab-df-container\">\n",
              "    <button class=\"colab-df-convert\" onclick=\"convertToInteractive('df-b009f28e-51aa-44b7-908b-8628ab0e8d0e')\"\n",
              "            title=\"Convert this dataframe to an interactive table.\"\n",
              "            style=\"display:none;\">\n",
              "\n",
              "  <svg xmlns=\"http://www.w3.org/2000/svg\" height=\"24px\" viewBox=\"0 -960 960 960\">\n",
              "    <path d=\"M120-120v-720h720v720H120Zm60-500h600v-160H180v160Zm220 220h160v-160H400v160Zm0 220h160v-160H400v160ZM180-400h160v-160H180v160Zm440 0h160v-160H620v160ZM180-180h160v-160H180v160Zm440 0h160v-160H620v160Z\"/>\n",
              "  </svg>\n",
              "    </button>\n",
              "\n",
              "  <style>\n",
              "    .colab-df-container {\n",
              "      display:flex;\n",
              "      gap: 12px;\n",
              "    }\n",
              "\n",
              "    .colab-df-convert {\n",
              "      background-color: #E8F0FE;\n",
              "      border: none;\n",
              "      border-radius: 50%;\n",
              "      cursor: pointer;\n",
              "      display: none;\n",
              "      fill: #1967D2;\n",
              "      height: 32px;\n",
              "      padding: 0 0 0 0;\n",
              "      width: 32px;\n",
              "    }\n",
              "\n",
              "    .colab-df-convert:hover {\n",
              "      background-color: #E2EBFA;\n",
              "      box-shadow: 0px 1px 2px rgba(60, 64, 67, 0.3), 0px 1px 3px 1px rgba(60, 64, 67, 0.15);\n",
              "      fill: #174EA6;\n",
              "    }\n",
              "\n",
              "    .colab-df-buttons div {\n",
              "      margin-bottom: 4px;\n",
              "    }\n",
              "\n",
              "    [theme=dark] .colab-df-convert {\n",
              "      background-color: #3B4455;\n",
              "      fill: #D2E3FC;\n",
              "    }\n",
              "\n",
              "    [theme=dark] .colab-df-convert:hover {\n",
              "      background-color: #434B5C;\n",
              "      box-shadow: 0px 1px 3px 1px rgba(0, 0, 0, 0.15);\n",
              "      filter: drop-shadow(0px 1px 2px rgba(0, 0, 0, 0.3));\n",
              "      fill: #FFFFFF;\n",
              "    }\n",
              "  </style>\n",
              "\n",
              "    <script>\n",
              "      const buttonEl =\n",
              "        document.querySelector('#df-b009f28e-51aa-44b7-908b-8628ab0e8d0e button.colab-df-convert');\n",
              "      buttonEl.style.display =\n",
              "        google.colab.kernel.accessAllowed ? 'block' : 'none';\n",
              "\n",
              "      async function convertToInteractive(key) {\n",
              "        const element = document.querySelector('#df-b009f28e-51aa-44b7-908b-8628ab0e8d0e');\n",
              "        const dataTable =\n",
              "          await google.colab.kernel.invokeFunction('convertToInteractive',\n",
              "                                                    [key], {});\n",
              "        if (!dataTable) return;\n",
              "\n",
              "        const docLinkHtml = 'Like what you see? Visit the ' +\n",
              "          '<a target=\"_blank\" href=https://colab.research.google.com/notebooks/data_table.ipynb>data table notebook</a>'\n",
              "          + ' to learn more about interactive tables.';\n",
              "        element.innerHTML = '';\n",
              "        dataTable['output_type'] = 'display_data';\n",
              "        await google.colab.output.renderOutput(dataTable, element);\n",
              "        const docLink = document.createElement('div');\n",
              "        docLink.innerHTML = docLinkHtml;\n",
              "        element.appendChild(docLink);\n",
              "      }\n",
              "    </script>\n",
              "  </div>\n",
              "\n",
              "\n",
              "<div id=\"df-24719b6f-e7f9-4959-a5e8-ab401bf3262a\">\n",
              "  <button class=\"colab-df-quickchart\" onclick=\"quickchart('df-24719b6f-e7f9-4959-a5e8-ab401bf3262a')\"\n",
              "            title=\"Suggest charts\"\n",
              "            style=\"display:none;\">\n",
              "\n",
              "<svg xmlns=\"http://www.w3.org/2000/svg\" height=\"24px\"viewBox=\"0 0 24 24\"\n",
              "     width=\"24px\">\n",
              "    <g>\n",
              "        <path d=\"M19 3H5c-1.1 0-2 .9-2 2v14c0 1.1.9 2 2 2h14c1.1 0 2-.9 2-2V5c0-1.1-.9-2-2-2zM9 17H7v-7h2v7zm4 0h-2V7h2v10zm4 0h-2v-4h2v4z\"/>\n",
              "    </g>\n",
              "</svg>\n",
              "  </button>\n",
              "\n",
              "<style>\n",
              "  .colab-df-quickchart {\n",
              "      --bg-color: #E8F0FE;\n",
              "      --fill-color: #1967D2;\n",
              "      --hover-bg-color: #E2EBFA;\n",
              "      --hover-fill-color: #174EA6;\n",
              "      --disabled-fill-color: #AAA;\n",
              "      --disabled-bg-color: #DDD;\n",
              "  }\n",
              "\n",
              "  [theme=dark] .colab-df-quickchart {\n",
              "      --bg-color: #3B4455;\n",
              "      --fill-color: #D2E3FC;\n",
              "      --hover-bg-color: #434B5C;\n",
              "      --hover-fill-color: #FFFFFF;\n",
              "      --disabled-bg-color: #3B4455;\n",
              "      --disabled-fill-color: #666;\n",
              "  }\n",
              "\n",
              "  .colab-df-quickchart {\n",
              "    background-color: var(--bg-color);\n",
              "    border: none;\n",
              "    border-radius: 50%;\n",
              "    cursor: pointer;\n",
              "    display: none;\n",
              "    fill: var(--fill-color);\n",
              "    height: 32px;\n",
              "    padding: 0;\n",
              "    width: 32px;\n",
              "  }\n",
              "\n",
              "  .colab-df-quickchart:hover {\n",
              "    background-color: var(--hover-bg-color);\n",
              "    box-shadow: 0 1px 2px rgba(60, 64, 67, 0.3), 0 1px 3px 1px rgba(60, 64, 67, 0.15);\n",
              "    fill: var(--button-hover-fill-color);\n",
              "  }\n",
              "\n",
              "  .colab-df-quickchart-complete:disabled,\n",
              "  .colab-df-quickchart-complete:disabled:hover {\n",
              "    background-color: var(--disabled-bg-color);\n",
              "    fill: var(--disabled-fill-color);\n",
              "    box-shadow: none;\n",
              "  }\n",
              "\n",
              "  .colab-df-spinner {\n",
              "    border: 2px solid var(--fill-color);\n",
              "    border-color: transparent;\n",
              "    border-bottom-color: var(--fill-color);\n",
              "    animation:\n",
              "      spin 1s steps(1) infinite;\n",
              "  }\n",
              "\n",
              "  @keyframes spin {\n",
              "    0% {\n",
              "      border-color: transparent;\n",
              "      border-bottom-color: var(--fill-color);\n",
              "      border-left-color: var(--fill-color);\n",
              "    }\n",
              "    20% {\n",
              "      border-color: transparent;\n",
              "      border-left-color: var(--fill-color);\n",
              "      border-top-color: var(--fill-color);\n",
              "    }\n",
              "    30% {\n",
              "      border-color: transparent;\n",
              "      border-left-color: var(--fill-color);\n",
              "      border-top-color: var(--fill-color);\n",
              "      border-right-color: var(--fill-color);\n",
              "    }\n",
              "    40% {\n",
              "      border-color: transparent;\n",
              "      border-right-color: var(--fill-color);\n",
              "      border-top-color: var(--fill-color);\n",
              "    }\n",
              "    60% {\n",
              "      border-color: transparent;\n",
              "      border-right-color: var(--fill-color);\n",
              "    }\n",
              "    80% {\n",
              "      border-color: transparent;\n",
              "      border-right-color: var(--fill-color);\n",
              "      border-bottom-color: var(--fill-color);\n",
              "    }\n",
              "    90% {\n",
              "      border-color: transparent;\n",
              "      border-bottom-color: var(--fill-color);\n",
              "    }\n",
              "  }\n",
              "</style>\n",
              "\n",
              "  <script>\n",
              "    async function quickchart(key) {\n",
              "      const quickchartButtonEl =\n",
              "        document.querySelector('#' + key + ' button');\n",
              "      quickchartButtonEl.disabled = true;  // To prevent multiple clicks.\n",
              "      quickchartButtonEl.classList.add('colab-df-spinner');\n",
              "      try {\n",
              "        const charts = await google.colab.kernel.invokeFunction(\n",
              "            'suggestCharts', [key], {});\n",
              "      } catch (error) {\n",
              "        console.error('Error during call to suggestCharts:', error);\n",
              "      }\n",
              "      quickchartButtonEl.classList.remove('colab-df-spinner');\n",
              "      quickchartButtonEl.classList.add('colab-df-quickchart-complete');\n",
              "    }\n",
              "    (() => {\n",
              "      let quickchartButtonEl =\n",
              "        document.querySelector('#df-24719b6f-e7f9-4959-a5e8-ab401bf3262a button');\n",
              "      quickchartButtonEl.style.display =\n",
              "        google.colab.kernel.accessAllowed ? 'block' : 'none';\n",
              "    })();\n",
              "  </script>\n",
              "</div>\n",
              "\n",
              "    </div>\n",
              "  </div>\n"
            ],
            "application/vnd.google.colaboratory.intrinsic+json": {
              "type": "dataframe",
              "variable_name": "df",
              "summary": "{\n  \"name\": \"df\",\n  \"rows\": 100,\n  \"fields\": [\n    {\n      \"column\": \"a\",\n      \"properties\": {\n        \"dtype\": \"number\",\n        \"std\": 0.9068832412710459,\n        \"min\": -2.5719827471699994,\n        \"max\": 2.0269305804986506,\n        \"num_unique_values\": 100,\n        \"samples\": [\n          0.16345237764008985,\n          -1.4670993084727517,\n          1.3482191497751075\n        ],\n        \"semantic_type\": \"\",\n        \"description\": \"\"\n      }\n    },\n    {\n      \"column\": \"b\",\n      \"properties\": {\n        \"dtype\": \"number\",\n        \"std\": 0.8888576852593247,\n        \"min\": -1.6340781548210743,\n        \"max\": 2.1851572642059085,\n        \"num_unique_values\": 100,\n        \"samples\": [\n          -0.044610140188992876,\n          -1.1005823418778895,\n          1.7613713096706145\n        ],\n        \"semantic_type\": \"\",\n        \"description\": \"\"\n      }\n    },\n    {\n      \"column\": \"c\",\n      \"properties\": {\n        \"dtype\": \"number\",\n        \"std\": 1.0073029390545396,\n        \"min\": -1.9073452290125263,\n        \"max\": 2.070079215976621,\n        \"num_unique_values\": 100,\n        \"samples\": [\n          -0.6834740350265434,\n          0.3450404636095783,\n          2.070079215976621\n        ],\n        \"semantic_type\": \"\",\n        \"description\": \"\"\n      }\n    },\n    {\n      \"column\": \"d\",\n      \"properties\": {\n        \"dtype\": \"number\",\n        \"std\": 0.9594548532487962,\n        \"min\": -2.1715342852699826,\n        \"max\": 2.354667025059254,\n        \"num_unique_values\": 100,\n        \"samples\": [\n          -1.0759053828771534,\n          -0.4241904938600015,\n          1.3638167738634501\n        ],\n        \"semantic_type\": \"\",\n        \"description\": \"\"\n      }\n    },\n    {\n      \"column\": \"e\",\n      \"properties\": {\n        \"dtype\": \"number\",\n        \"std\": 0.9894576779547851,\n        \"min\": -2.0316749538290724,\n        \"max\": 2.2757508654504095,\n        \"num_unique_values\": 100,\n        \"samples\": [\n          0.7391943463114681,\n          1.3932087338054628,\n          0.031150865284865124\n        ],\n        \"semantic_type\": \"\",\n        \"description\": \"\"\n      }\n    }\n  ]\n}"
            }
          },
          "metadata": {},
          "execution_count": 24
        }
      ]
    },
    {
      "cell_type": "code",
      "source": [],
      "metadata": {
        "id": "974B3rFc0VXU"
      },
      "execution_count": null,
      "outputs": []
    }
  ]
}